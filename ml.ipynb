{
 "cells": [
  {
   "cell_type": "markdown",
   "source": [
    "# Handwritten digits recognition"
   ],
   "metadata": {
    "collapsed": false
   }
  },
  {
   "cell_type": "markdown",
   "source": [
    "## Import packages"
   ],
   "metadata": {
    "collapsed": false
   }
  },
  {
   "cell_type": "code",
   "execution_count": 152,
   "metadata": {
    "collapsed": true
   },
   "outputs": [],
   "source": [
    "import numpy as np\n",
    "from matplotlib import pyplot as plt\n",
    "import math"
   ]
  },
  {
   "cell_type": "markdown",
   "source": [
    "## Define and initialization"
   ],
   "metadata": {
    "collapsed": false
   }
  },
  {
   "cell_type": "code",
   "execution_count": 153,
   "outputs": [],
   "source": [
    "def tanh(x):\n",
    "    return np.tanh(x)\n",
    "\n",
    "\n",
    "def softmax(x):\n",
    "    exp = np.exp(x - x.max())\n",
    "    return exp / exp.sum()\n",
    "\n",
    "\n",
    "train_num = 50000\n",
    "valid_num = 10000\n",
    "test_num = 10000\n",
    "dimensions = [28 * 28, 10]\n",
    "activation = [tanh, softmax]\n",
    "w_range = math.sqrt(6 / (dimensions[0] + dimensions[1]))\n",
    "dists = [\n",
    "    {'b': [0, 0]},\n",
    "    {'b': [0, 0], 'w': [-w_range, w_range]}\n",
    "]\n",
    "\n",
    "\n",
    "def init_paras_b(layer: int):\n",
    "    dist = dists[layer]['b']\n",
    "    return np.random.rand(dimensions[layer]) * (dist[1] - dist[0]) + dist[0]\n",
    "\n",
    "\n",
    "def init_paras_w(layer: int):\n",
    "    dist = dists[layer]['w']\n",
    "    return np.random.rand(dimensions[layer - 1], dimensions[layer]) * (dist[1] - dist[0]) + dist[0]\n",
    "\n",
    "\n",
    "def init_paras():\n",
    "    parameters = []\n",
    "    for layer in range(len(dists)):\n",
    "        layer_paras = {}\n",
    "        for key_name in dists[layer].keys():\n",
    "            if key_name == 'b':\n",
    "                layer_paras['b'] = init_paras_b(layer)\n",
    "                continue\n",
    "            if key_name == 'w':\n",
    "                layer_paras['w'] = init_paras_w(layer)\n",
    "                continue\n",
    "        parameters.append(layer_paras)\n",
    "    return parameters\n",
    "\n",
    "\n",
    "def predict(img, paras):\n",
    "    layer0_in = img + paras[0]['b']\n",
    "    layer0_out = activation[0](layer0_in)\n",
    "    layer1_in = np.dot(layer0_out, paras[1]['w']) + paras[1]['b']\n",
    "    layer1_out = activation[1](layer1_in)\n",
    "    return layer1_out"
   ],
   "metadata": {
    "collapsed": false
   }
  },
  {
   "cell_type": "markdown",
   "source": [
    "## Load data"
   ],
   "metadata": {
    "collapsed": false
   }
  },
  {
   "cell_type": "code",
   "execution_count": 154,
   "outputs": [],
   "source": [
    "with open('./dataset/train-images.idx3-ubyte', 'rb') as f:\n",
    "    f.read(16)\n",
    "    temp_img = np.fromfile(f, dtype=np.uint8).reshape(-1, 28 * 28)\n",
    "    train_img = temp_img[:train_num]\n",
    "    valid_img = temp_img[train_num:]\n",
    "\n",
    "with open('./dataset/train-labels.idx1-ubyte', 'rb') as f:\n",
    "    f.read(8)\n",
    "    temp_lab = np.fromfile(f, dtype=np.uint8)\n",
    "    train_lab = temp_lab[:train_num]\n",
    "    valid_lab = temp_lab[train_num:]\n",
    "\n",
    "with open('./dataset/t10k-images.idx3-ubyte', 'rb') as f:\n",
    "    f.read(16)\n",
    "    test_img = np.fromfile(f, dtype=np.uint8).reshape(-1, 28 * 28)\n",
    "\n",
    "with open('./dataset/t10k-labels.idx1-ubyte', 'rb') as f:\n",
    "    f.read(8)\n",
    "    test_lab = np.fromfile(f, dtype=np.uint8)\n",
    "\n",
    "train_data = [train_img, train_lab]\n",
    "test_data = [test_img, test_lab]\n",
    "valid_data = [valid_img, valid_lab]\n",
    "\n",
    "\n",
    "def show_data(data_type, index):\n",
    "    plt.imshow(data_type[0][index].reshape(28, 28))\n",
    "    print(data_type[1][index])"
   ],
   "metadata": {
    "collapsed": false
   }
  },
  {
   "cell_type": "markdown",
   "source": [
    "## Train"
   ],
   "metadata": {
    "collapsed": false
   }
  },
  {
   "cell_type": "code",
   "execution_count": 155,
   "outputs": [],
   "source": [
    "def d_softmax(data):\n",
    "    sm = softmax(data)\n",
    "    return np.diag(sm) - np.outer(sm, sm)\n",
    "\n",
    "\n",
    "def d_tanh(data):\n",
    "    # return np.diag(1/(np.cosh(data))**2)\n",
    "    return 1 / (np.cosh(data)) ** 2\n",
    "\n",
    "\n",
    "differential = {tanh: d_tanh, softmax: d_softmax}\n",
    "\n",
    "onehot = np.identity(dimensions[-1])\n",
    "\n",
    "\n",
    "def sqr_loss(img, lab, paras):\n",
    "    y_pred = predict(img, paras)\n",
    "    y = onehot[lab]\n",
    "    diff = y - y_pred\n",
    "    return np.dot(diff, diff)\n",
    "\n",
    "\n",
    "def grad_paras(img, lab, paras):\n",
    "    layer0_in = img + paras[0]['b']\n",
    "    layer0_out = activation[0](layer0_in)\n",
    "    layer1_in = np.dot(layer0_out, paras[1]['w']) + paras[1]['b']\n",
    "    layer1_out = activation[1](layer1_in)\n",
    "\n",
    "    diff = onehot[lab] - layer1_out\n",
    "    act1 = np.dot(differential[activation[1]](layer1_in), diff)\n",
    "    grad_b1 = -2 * act1\n",
    "    grad_w1 = -2 * np.outer(layer0_out, act1)\n",
    "    grad_b0 = -2 * differential[activation[0]](layer0_in) * np.dot(paras[1]['w'], act1)\n",
    "    return {'w1': grad_w1, 'b1': grad_b1, 'b0': grad_b0}\n",
    "\n",
    "\n",
    "def valid_accu(paras):\n",
    "    correct = [predict(valid_img[img_i], paras).argmax() == valid_lab[img_i] for img_i in range(valid_num)]\n",
    "    print(correct.count(True) / len(correct))"
   ],
   "metadata": {
    "collapsed": false
   }
  },
  {
   "cell_type": "code",
   "execution_count": 156,
   "outputs": [],
   "source": [
    "batch_size = 100\n",
    "\n",
    "\n",
    "def train_batch(current_batch, paras):\n",
    "    grad_accu = grad_paras(train_img[current_batch * batch_size + 0], train_lab[current_batch * batch_size + 0], paras)\n",
    "    for img_i in range(1, batch_size):\n",
    "        grad_tmp = grad_paras(train_img[current_batch * batch_size + img_i],\n",
    "                              train_lab[current_batch * batch_size + img_i], paras)\n",
    "        for key in grad_accu.keys():\n",
    "            grad_accu[key] += grad_tmp[key]\n",
    "    for key in grad_accu.keys():\n",
    "        grad_accu[key] /= batch_size\n",
    "    return grad_accu"
   ],
   "metadata": {
    "collapsed": false
   }
  },
  {
   "cell_type": "markdown",
   "source": [
    "## Gradient Descent"
   ],
   "metadata": {
    "collapsed": false
   }
  },
  {
   "cell_type": "code",
   "execution_count": 157,
   "outputs": [],
   "source": [
    "import copy\n",
    "\n",
    "\n",
    "def combine_parameters(paras, grad, learn_rate):\n",
    "    parameter_tmp = copy.deepcopy(paras)\n",
    "    parameter_tmp[0]['b'] -= learn_rate * grad['b0']\n",
    "    parameter_tmp[1]['b'] -= learn_rate * grad['b1']\n",
    "    parameter_tmp[1]['w'] -= learn_rate * grad['w1']\n",
    "    return parameter_tmp"
   ],
   "metadata": {
    "collapsed": false
   }
  },
  {
   "cell_type": "code",
   "execution_count": 158,
   "outputs": [
    {
     "name": "stdout",
     "output_type": "stream",
     "text": [
      "0.1236\n"
     ]
    }
   ],
   "source": [
    "parameters = init_paras()\n",
    "current_epoch = 0\n",
    "valid_accu(parameters)"
   ],
   "metadata": {
    "collapsed": false
   }
  },
  {
   "cell_type": "code",
   "execution_count": 159,
   "outputs": [
    {
     "name": "stderr",
     "output_type": "stream",
     "text": [
      "C:\\Users\\26905\\AppData\\Local\\Temp\\ipykernel_3484\\3917854831.py:4: TqdmDeprecationWarning: This function will be removed in tqdm==5.0.0\n",
      "Please use `tqdm.notebook.tqdm` instead of `tqdm.tqdm_notebook`\n",
      "  for epoch in tqdm_notebook(range(epoch_num)):\n"
     ]
    },
    {
     "data": {
      "text/plain": "  0%|          | 0/10 [00:00<?, ?it/s]",
      "application/vnd.jupyter.widget-view+json": {
       "version_major": 2,
       "version_minor": 0,
       "model_id": "b76031458491467982679026d7ecfaca"
      }
     },
     "metadata": {},
     "output_type": "display_data"
    }
   ],
   "source": [
    "from tqdm import tqdm_notebook\n",
    "\n",
    "learn_rate = 10 ** -0.6\n",
    "epoch_num = 10\n",
    "for epoch in tqdm_notebook(range(epoch_num)):\n",
    "    for i in range(train_num // batch_size):\n",
    "        grad_tmp = train_batch(i, parameters)\n",
    "        parameters = combine_parameters(parameters, grad_tmp, learn_rate)\n",
    "    current_epoch += 1"
   ],
   "metadata": {
    "collapsed": false
   }
  },
  {
   "cell_type": "markdown",
   "source": [
    "## Predict"
   ],
   "metadata": {
    "collapsed": false
   }
  },
  {
   "cell_type": "code",
   "execution_count": 194,
   "outputs": [
    {
     "name": "stdout",
     "output_type": "stream",
     "text": [
      "5\n",
      "0.9222\n"
     ]
    },
    {
     "data": {
      "text/plain": "<Figure size 640x480 with 1 Axes>",
      "image/png": "[encoded data removed]"
     },
     "metadata": {},
     "output_type": "display_data"
    }
   ],
   "source": [
    "index = np.random.randint(test_num)\n",
    "print(predict(test_img[index], parameters).argmax())\n",
    "plt.imshow(test_img[index].reshape(28, 28))\n",
    "valid_accu(parameters)"
   ],
   "metadata": {
    "collapsed": false
   }
  }
 ],
 "metadata": {
  "kernelspec": {
   "display_name": "Python 3 (ipykernel)",
   "language": "python",
   "name": "python3"
  },
  "language_info": {
   "codemirror_mode": {
    "name": "ipython",
    "version": 3
   },
   "file_extension": ".py",
   "mimetype": "text/x-python",
   "name": "python",
   "nbconvert_exporter": "python",
   "pygments_lexer": "ipython3",
   "version": "3.10.6"
  }
 },
 "nbformat": 4,
 "nbformat_minor": 1
}
